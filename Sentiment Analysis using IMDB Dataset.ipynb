{
 "cells": [
  {
   "cell_type": "code",
   "execution_count": 1,
   "metadata": {
    "execution": {
     "iopub.execute_input": "2023-08-02T09:13:17.450598Z",
     "iopub.status.busy": "2023-08-02T09:13:17.450147Z",
     "iopub.status.idle": "2023-08-02T09:13:29.313539Z",
     "shell.execute_reply": "2023-08-02T09:13:29.312158Z",
     "shell.execute_reply.started": "2023-08-02T09:13:17.450563Z"
    }
   },
   "outputs": [
    {
     "name": "stderr",
     "output_type": "stream",
     "text": [
      "/opt/conda/lib/python3.10/site-packages/scipy/__init__.py:146: UserWarning: A NumPy version >=1.16.5 and <1.23.0 is required for this version of SciPy (detected version 1.23.5\n",
      "  warnings.warn(f\"A NumPy version >={np_minversion} and <{np_maxversion}\"\n",
      "/opt/conda/lib/python3.10/site-packages/tensorflow_io/python/ops/__init__.py:98: UserWarning: unable to load libtensorflow_io_plugins.so: unable to open file: libtensorflow_io_plugins.so, from paths: ['/opt/conda/lib/python3.10/site-packages/tensorflow_io/python/ops/libtensorflow_io_plugins.so']\n",
      "caused by: ['/opt/conda/lib/python3.10/site-packages/tensorflow_io/python/ops/libtensorflow_io_plugins.so: undefined symbol: _ZN3tsl6StatusC1EN10tensorflow5error4CodeESt17basic_string_viewIcSt11char_traitsIcEENS_14SourceLocationE']\n",
      "  warnings.warn(f\"unable to load libtensorflow_io_plugins.so: {e}\")\n",
      "/opt/conda/lib/python3.10/site-packages/tensorflow_io/python/ops/__init__.py:104: UserWarning: file system plugins are not loaded: unable to open file: libtensorflow_io.so, from paths: ['/opt/conda/lib/python3.10/site-packages/tensorflow_io/python/ops/libtensorflow_io.so']\n",
      "caused by: ['/opt/conda/lib/python3.10/site-packages/tensorflow_io/python/ops/libtensorflow_io.so: undefined symbol: _ZTVN10tensorflow13GcsFileSystemE']\n",
      "  warnings.warn(f\"file system plugins are not loaded: {e}\")\n"
     ]
    }
   ],
   "source": [
    "import numpy as np\n",
    "import tensorflow as tf\n",
    "from tensorflow.keras.preprocessing.sequence import pad_sequences\n",
    "from tensorflow.keras.models import Sequential\n",
    "from tensorflow.keras.layers import Embedding, LSTM, Dense, Dropout\n",
    "import matplotlib.pyplot as plt\n",
    "import pandas as pd\n",
    "from sklearn.model_selection import train_test_split"
   ]
  },
  {
   "cell_type": "code",
   "execution_count": 11,
   "metadata": {
    "execution": {
     "iopub.execute_input": "2023-08-02T09:16:23.917200Z",
     "iopub.status.busy": "2023-08-02T09:16:23.916700Z",
     "iopub.status.idle": "2023-08-02T09:16:24.705018Z",
     "shell.execute_reply": "2023-08-02T09:16:24.703641Z",
     "shell.execute_reply.started": "2023-08-02T09:16:23.917153Z"
    }
   },
   "outputs": [],
   "source": [
    "dataset_path = '/kaggle/input/imdb-dataset-of-50k-movie-reviews/IMDB Dataset.csv'\n",
    "data = pd.read_csv(dataset_path)"
   ]
  },
  {
   "cell_type": "code",
   "execution_count": 12,
   "metadata": {
    "execution": {
     "iopub.execute_input": "2023-08-02T09:16:24.707745Z",
     "iopub.status.busy": "2023-08-02T09:16:24.707328Z",
     "iopub.status.idle": "2023-08-02T09:16:24.720999Z",
     "shell.execute_reply": "2023-08-02T09:16:24.719154Z",
     "shell.execute_reply.started": "2023-08-02T09:16:24.707712Z"
    }
   },
   "outputs": [
    {
     "data": {
      "text/html": [
       "<div>\n",
       "<style scoped>\n",
       "    .dataframe tbody tr th:only-of-type {\n",
       "        vertical-align: middle;\n",
       "    }\n",
       "\n",
       "    .dataframe tbody tr th {\n",
       "        vertical-align: top;\n",
       "    }\n",
       "\n",
       "    .dataframe thead th {\n",
       "        text-align: right;\n",
       "    }\n",
       "</style>\n",
       "<table border=\"1\" class=\"dataframe\">\n",
       "  <thead>\n",
       "    <tr style=\"text-align: right;\">\n",
       "      <th></th>\n",
       "      <th>review</th>\n",
       "      <th>sentiment</th>\n",
       "    </tr>\n",
       "  </thead>\n",
       "  <tbody>\n",
       "    <tr>\n",
       "      <th>0</th>\n",
       "      <td>One of the other reviewers has mentioned that ...</td>\n",
       "      <td>positive</td>\n",
       "    </tr>\n",
       "    <tr>\n",
       "      <th>1</th>\n",
       "      <td>A wonderful little production. &lt;br /&gt;&lt;br /&gt;The...</td>\n",
       "      <td>positive</td>\n",
       "    </tr>\n",
       "    <tr>\n",
       "      <th>2</th>\n",
       "      <td>I thought this was a wonderful way to spend ti...</td>\n",
       "      <td>positive</td>\n",
       "    </tr>\n",
       "    <tr>\n",
       "      <th>3</th>\n",
       "      <td>Basically there's a family where a little boy ...</td>\n",
       "      <td>negative</td>\n",
       "    </tr>\n",
       "    <tr>\n",
       "      <th>4</th>\n",
       "      <td>Petter Mattei's \"Love in the Time of Money\" is...</td>\n",
       "      <td>positive</td>\n",
       "    </tr>\n",
       "  </tbody>\n",
       "</table>\n",
       "</div>"
      ],
      "text/plain": [
       "                                              review sentiment\n",
       "0  One of the other reviewers has mentioned that ...  positive\n",
       "1  A wonderful little production. <br /><br />The...  positive\n",
       "2  I thought this was a wonderful way to spend ti...  positive\n",
       "3  Basically there's a family where a little boy ...  negative\n",
       "4  Petter Mattei's \"Love in the Time of Money\" is...  positive"
      ]
     },
     "execution_count": 12,
     "metadata": {},
     "output_type": "execute_result"
    }
   ],
   "source": [
    "data.head()"
   ]
  },
  {
   "cell_type": "code",
   "execution_count": 13,
   "metadata": {
    "execution": {
     "iopub.execute_input": "2023-08-02T09:16:25.482880Z",
     "iopub.status.busy": "2023-08-02T09:16:25.482387Z",
     "iopub.status.idle": "2023-08-02T09:16:25.493295Z",
     "shell.execute_reply": "2023-08-02T09:16:25.491927Z",
     "shell.execute_reply.started": "2023-08-02T09:16:25.482826Z"
    }
   },
   "outputs": [],
   "source": [
    "vocab_size = 10000\n",
    "maxlen = 200\n",
    "X = data['review'].values\n",
    "y = data['sentiment'].values\n",
    "y = (y == 'positive').astype(int)"
   ]
  },
  {
   "cell_type": "code",
   "execution_count": 14,
   "metadata": {
    "execution": {
     "iopub.execute_input": "2023-08-02T09:16:29.119811Z",
     "iopub.status.busy": "2023-08-02T09:16:29.119357Z",
     "iopub.status.idle": "2023-08-02T09:16:54.647677Z",
     "shell.execute_reply": "2023-08-02T09:16:54.646299Z",
     "shell.execute_reply.started": "2023-08-02T09:16:29.119778Z"
    }
   },
   "outputs": [],
   "source": [
    "tokenizer = tf.keras.preprocessing.text.Tokenizer(num_words=vocab_size)\n",
    "tokenizer.fit_on_texts(X)\n",
    "X = tokenizer.texts_to_sequences(X)\n",
    "X = pad_sequences(X, maxlen=maxlen)"
   ]
  },
  {
   "cell_type": "code",
   "execution_count": 15,
   "metadata": {
    "execution": {
     "iopub.execute_input": "2023-08-02T09:16:54.651141Z",
     "iopub.status.busy": "2023-08-02T09:16:54.650593Z",
     "iopub.status.idle": "2023-08-02T09:16:54.679668Z",
     "shell.execute_reply": "2023-08-02T09:16:54.678357Z",
     "shell.execute_reply.started": "2023-08-02T09:16:54.651091Z"
    }
   },
   "outputs": [],
   "source": [
    "X_train, X_test, y_train, y_test = train_test_split(X, y, test_size=0.2, random_state=42)\n"
   ]
  },
  {
   "cell_type": "code",
   "execution_count": 16,
   "metadata": {
    "execution": {
     "iopub.execute_input": "2023-08-02T09:17:07.642080Z",
     "iopub.status.busy": "2023-08-02T09:17:07.641602Z",
     "iopub.status.idle": "2023-08-02T09:17:08.309889Z",
     "shell.execute_reply": "2023-08-02T09:17:08.308278Z",
     "shell.execute_reply.started": "2023-08-02T09:17:07.642025Z"
    }
   },
   "outputs": [],
   "source": [
    "model = Sequential()\n",
    "model.add(Embedding(input_dim=vocab_size, output_dim=128, input_length=maxlen))\n",
    "model.add(LSTM(64, return_sequences=True))\n",
    "model.add(LSTM(64))\n",
    "model.add(Dense(1, activation='sigmoid'))"
   ]
  },
  {
   "cell_type": "code",
   "execution_count": 17,
   "metadata": {
    "execution": {
     "iopub.execute_input": "2023-08-02T09:17:10.302830Z",
     "iopub.status.busy": "2023-08-02T09:17:10.302338Z",
     "iopub.status.idle": "2023-08-02T09:17:10.321844Z",
     "shell.execute_reply": "2023-08-02T09:17:10.320556Z",
     "shell.execute_reply.started": "2023-08-02T09:17:10.302788Z"
    }
   },
   "outputs": [],
   "source": [
    "model.compile(optimizer='adam', loss='binary_crossentropy', metrics=['accuracy'])\n"
   ]
  },
  {
   "cell_type": "code",
   "execution_count": 18,
   "metadata": {
    "execution": {
     "iopub.execute_input": "2023-08-02T09:17:14.107060Z",
     "iopub.status.busy": "2023-08-02T09:17:14.106543Z",
     "iopub.status.idle": "2023-08-02T09:41:03.405446Z",
     "shell.execute_reply": "2023-08-02T09:41:03.403843Z",
     "shell.execute_reply.started": "2023-08-02T09:17:14.107006Z"
    }
   },
   "outputs": [
    {
     "name": "stdout",
     "output_type": "stream",
     "text": [
      "Epoch 1/10\n",
      "250/250 [==============================] - 145s 562ms/step - loss: 0.4029 - accuracy: 0.8096 - val_loss: 0.2920 - val_accuracy: 0.8824\n",
      "Epoch 2/10\n",
      "250/250 [==============================] - 141s 563ms/step - loss: 0.2416 - accuracy: 0.9062 - val_loss: 0.3585 - val_accuracy: 0.8591\n",
      "Epoch 3/10\n",
      "250/250 [==============================] - 142s 566ms/step - loss: 0.1762 - accuracy: 0.9345 - val_loss: 0.3330 - val_accuracy: 0.8819\n",
      "Epoch 4/10\n",
      "250/250 [==============================] - 147s 590ms/step - loss: 0.1396 - accuracy: 0.9507 - val_loss: 0.3597 - val_accuracy: 0.8744\n",
      "Epoch 5/10\n",
      "250/250 [==============================] - 143s 572ms/step - loss: 0.1004 - accuracy: 0.9654 - val_loss: 0.3765 - val_accuracy: 0.8764\n",
      "Epoch 6/10\n",
      "250/250 [==============================] - 142s 567ms/step - loss: 0.0742 - accuracy: 0.9758 - val_loss: 0.4227 - val_accuracy: 0.8694\n",
      "Epoch 7/10\n",
      "250/250 [==============================] - 148s 591ms/step - loss: 0.0594 - accuracy: 0.9813 - val_loss: 0.4699 - val_accuracy: 0.8675\n",
      "Epoch 8/10\n",
      "250/250 [==============================] - 141s 563ms/step - loss: 0.0536 - accuracy: 0.9829 - val_loss: 0.5569 - val_accuracy: 0.8661\n",
      "Epoch 9/10\n",
      "250/250 [==============================] - 140s 562ms/step - loss: 0.0398 - accuracy: 0.9876 - val_loss: 0.5873 - val_accuracy: 0.8766\n",
      "Epoch 10/10\n",
      "250/250 [==============================] - 142s 567ms/step - loss: 0.0295 - accuracy: 0.9912 - val_loss: 0.6255 - val_accuracy: 0.8550\n"
     ]
    }
   ],
   "source": [
    "history = model.fit(X_train, y_train, epochs=10, batch_size=128, validation_split=0.2)\n"
   ]
  },
  {
   "cell_type": "code",
   "execution_count": 21,
   "metadata": {
    "execution": {
     "iopub.execute_input": "2023-08-02T09:41:08.090910Z",
     "iopub.status.busy": "2023-08-02T09:41:08.090388Z",
     "iopub.status.idle": "2023-08-02T09:41:08.714107Z",
     "shell.execute_reply": "2023-08-02T09:41:08.712525Z",
     "shell.execute_reply.started": "2023-08-02T09:41:08.090857Z"
    }
   },
   "outputs": [
    {
     "data": {
      "image/png": "[encoded data removed]",
      "text/plain": [
       "<Figure size 1200x400 with 2 Axes>"
      ]
     },
     "metadata": {},
     "output_type": "display_data"
    }
   ],
   "source": [
    "plt.figure(figsize=(12, 4))\n",
    "plt.subplot(1, 2, 1)\n",
    "plt.plot(history.history['accuracy'], label='Training Accuracy')\n",
    "plt.plot(history.history['val_accuracy'], label='Validation Accuracy')\n",
    "plt.legend()\n",
    "plt.title('Training and Validation Accuracy')\n",
    "plt.subplot(1, 2, 2)\n",
    "plt.plot(history.history['loss'], label='Training Loss')\n",
    "plt.plot(history.history['val_loss'], label='Validation Loss')\n",
    "plt.legend()\n",
    "plt.title('Training and Validation Loss')\n",
    "\n",
    "plt.show()"
   ]
  },
  {
   "cell_type": "code",
   "execution_count": 20,
   "metadata": {
    "execution": {
     "iopub.execute_input": "2023-08-02T09:41:03.856639Z",
     "iopub.status.busy": "2023-08-02T09:41:03.856169Z",
     "iopub.status.idle": "2023-08-02T09:41:03.940943Z",
     "shell.execute_reply": "2023-08-02T09:41:03.939523Z",
     "shell.execute_reply.started": "2023-08-02T09:41:03.856599Z"
    }
   },
   "outputs": [],
   "source": [
    "model.save('sentiment_analysis_model.h5')"
   ]
  },
  {
   "cell_type": "code",
   "execution_count": 25,
   "metadata": {
    "execution": {
     "iopub.execute_input": "2023-08-02T09:42:21.847610Z",
     "iopub.status.busy": "2023-08-02T09:42:21.847135Z",
     "iopub.status.idle": "2023-08-02T09:42:28.091452Z",
     "shell.execute_reply": "2023-08-02T09:42:28.089952Z",
     "shell.execute_reply.started": "2023-08-02T09:42:21.847577Z"
    }
   },
   "outputs": [
    {
     "name": "stdin",
     "output_type": "stream",
     "text": [
      "Enter a movie review:  I don't like that movie\n"
     ]
    },
    {
     "name": "stdout",
     "output_type": "stream",
     "text": [
      "1/1 [==============================] - 1s 894ms/step\n",
      "Predicted Sentiment: negative\n",
      "Input Text: I don't like that movie\n"
     ]
    }
   ],
   "source": [
    "import numpy as np\n",
    "import tensorflow as tf\n",
    "from tensorflow.keras.preprocessing.sequence import pad_sequences\n",
    "from tensorflow.keras.models import load_model\n",
    "\n",
    "model = load_model('/kaggle/working/sentiment_analysis_model.h5')\n",
    "input_text = input(\"Enter a movie review: \")\n",
    "\n",
    "word_to_index = tokenizer.word_index\n",
    "input_sequence = [word_to_index[word] if word in word_to_index else 0 for word in input_text.split()]\n",
    "input_sequence = pad_sequences([input_sequence], maxlen=200)\n",
    "\n",
    "prediction = model.predict(input_sequence)[0][0]\n",
    "\n",
    "if prediction > 0.5:\n",
    "    sentiment = \"positive\"\n",
    "else:\n",
    "    sentiment = \"negative\"\n",
    "\n",
    "print(\"Predicted Sentiment:\", sentiment)\n",
    "print(\"Input Text:\", input_text)"
   ]
  },
  {
   "cell_type": "code",
   "execution_count": null,
   "metadata": {},
   "outputs": [],
   "source": []
  }
 ],
 "metadata": {
  "kernelspec": {
   "display_name": "Python 3 (ipykernel)",
   "language": "python",
   "name": "python3"
  },
  "language_info": {
   "codemirror_mode": {
    "name": "ipython",
    "version": 3
   },
   "file_extension": ".py",
   "mimetype": "text/x-python",
   "name": "python",
   "nbconvert_exporter": "python",
   "pygments_lexer": "ipython3",
   "version": "3.7.11"
  }
 },
 "nbformat": 4,
 "nbformat_minor": 4
}
